{
 "cells": [
  {
   "cell_type": "markdown",
   "metadata": {},
   "source": [
    "# Write a program to subtract tow complex numbers in Python."
   ]
  },
  {
   "cell_type": "code",
   "execution_count": 5,
   "metadata": {},
   "outputs": [
    {
     "name": "stdout",
     "output_type": "stream",
     "text": [
      "subteaction is: (1+1j)\n"
     ]
    }
   ],
   "source": [
    "def subcomplex(a,b):\n",
    "    return a-b\n",
    "a = complex (2,3)\n",
    "b = complex(1,2)\n",
    "\n",
    "print(\"subteaction is:\", subcomplex(a,b))"
   ]
  },
  {
   "cell_type": "code",
   "execution_count": 11,
   "metadata": {},
   "outputs": [
    {
     "name": "stdout",
     "output_type": "stream",
     "text": [
      "subtraction of tow complex no= (1+1j)\n"
     ]
    }
   ],
   "source": [
    "cxmplexno = 2+3j\n",
    "cxmplexno1 = 1+2j\n",
    "\n",
    "print(\"subtraction of tow complex no=\",(cxmplexno-cxmplexno1))"
   ]
  },
  {
   "cell_type": "markdown",
   "metadata": {},
   "source": [
    "# Write a program to swap two no in Python using a temporary variable."
   ]
  },
  {
   "cell_type": "code",
   "execution_count": 13,
   "metadata": {},
   "outputs": [
    {
     "name": "stdout",
     "output_type": "stream",
     "text": [
      "\n",
      "after swapping value of a= 3\n",
      "\n",
      "after swapping value of b= 2\n"
     ]
    }
   ],
   "source": [
    "a = 2\n",
    "b = 3\n",
    "\n",
    "temp=a\n",
    "a=b\n",
    "b=temp\n",
    "\n",
    "print(\"\\nafter swapping value of a=\",(a))\n",
    "print(\"\\nafter swapping value of b=\",(b))"
   ]
  },
  {
   "cell_type": "markdown",
   "metadata": {},
   "source": [
    "# write a program to swap tow no in python  without using temporary variable"
   ]
  },
  {
   "cell_type": "code",
   "execution_count": 14,
   "metadata": {},
   "outputs": [
    {
     "name": "stdout",
     "output_type": "stream",
     "text": [
      "\n",
      " after swapping value of a= 5\n",
      "\n",
      " after swapping value of a= 10\n"
     ]
    }
   ],
   "source": [
    "a = 10\n",
    "b = 5\n",
    "\n",
    "a=a+b\n",
    "b=a-b\n",
    "a=a-b\n",
    "\n",
    "print(\"\\n after swapping value of a=\",(a))\n",
    "print(\"\\n after swapping value of a=\",(b))"
   ]
  },
  {
   "cell_type": "markdown",
   "metadata": {},
   "source": [
    "# write a program to demonstrate all the available data type in python "
   ]
  },
  {
   "cell_type": "code",
   "execution_count": 18,
   "metadata": {},
   "outputs": [
    {
     "name": "stdout",
     "output_type": "stream",
     "text": [
      "10 is of type <class 'int'>\n"
     ]
    }
   ],
   "source": [
    "a = 10\n",
    "print(a,\"is of type\",type(a))"
   ]
  },
  {
   "cell_type": "code",
   "execution_count": 19,
   "metadata": {},
   "outputs": [
    {
     "name": "stdout",
     "output_type": "stream",
     "text": [
      "10.222555 is of type <class 'float'>\n"
     ]
    }
   ],
   "source": [
    "a = 10.222555\n",
    "print(a,\"is of type\",type(a))"
   ]
  },
  {
   "cell_type": "code",
   "execution_count": 20,
   "metadata": {},
   "outputs": [
    {
     "name": "stdout",
     "output_type": "stream",
     "text": [
      "(10+2j) is of type <class 'complex'>\n"
     ]
    }
   ],
   "source": [
    "a = 10+2j\n",
    "print(a,\"is of type\",type(a))"
   ]
  },
  {
   "cell_type": "code",
   "execution_count": 23,
   "metadata": {},
   "outputs": [
    {
     "name": "stdout",
     "output_type": "stream",
     "text": [
      "('10', 'apple', 'payal', '10.22') is of type <class 'tuple'>\n"
     ]
    }
   ],
   "source": [
    "a = (\"10\",\"apple\",\"payal\",\"10.22)\n",
    "print(a,\"is of type\",type(a))"
   ]
  },
  {
   "cell_type": "code",
   "execution_count": 26,
   "metadata": {},
   "outputs": [
    {
     "name": "stdout",
     "output_type": "stream",
     "text": [
      "['10', 'apple', 'payal', '10.22'] is of type <class 'list'>\n"
     ]
    }
   ],
   "source": [
    "a = [\"10\",\"apple\",\"payal\",\"10.22\"]\n",
    "print(a,\"is of type\",type(a))"
   ]
  },
  {
   "cell_type": "code",
   "execution_count": 2,
   "metadata": {},
   "outputs": [
    {
     "name": "stdout",
     "output_type": "stream",
     "text": [
      "range(10, 50) is of type <class 'range'>\n"
     ]
    }
   ],
   "source": [
    "a = range(10,50)\n",
    "print(a,\"is of type\",type(a))  "
   ]
  },
  {
   "cell_type": "markdown",
   "metadata": {},
   "source": [
    "# create a markdown cell in jupyter and list the steps discussed in the session by Dr. Dreshan Ingle sir to create a Github profile and upload Assignment link"
   ]
  },
  {
   "cell_type": "markdown",
   "metadata": {},
   "source": [
    "1.First we have to go + ,then create repository for and create AI-ML name.\n",
    "2.Again Select the copy drag the folder on specfic location of the github\n",
    "3.Then copy the URL of GITHUB and paste it on the google forms"
   ]
  }
 ],
 "metadata": {
  "kernelspec": {
   "display_name": "Python 3",
   "language": "python",
   "name": "python3"
  },
  "language_info": {
   "codemirror_mode": {
    "name": "ipython",
    "version": 3
   },
   "file_extension": ".py",
   "mimetype": "text/x-python",
   "name": "python",
   "nbconvert_exporter": "python",
   "pygments_lexer": "ipython3",
   "version": "3.7.4"
  }
 },
 "nbformat": 4,
 "nbformat_minor": 2
}
