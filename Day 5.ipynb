{
 "cells": [
  {
   "cell_type": "markdown",
   "metadata": {},
   "source": [
    "# Write a python program to find the first 20 non even prime natural numbers."
   ]
  },
  {
   "cell_type": "code",
   "execution_count": 8,
   "metadata": {},
   "outputs": [
    {
     "name": "stdout",
     "output_type": "stream",
     "text": [
      "Enter start number1\n",
      "Enter end number20\n",
      "3\n",
      "5\n",
      "7\n",
      "11\n",
      "13\n",
      "17\n",
      "19\n"
     ]
    }
   ],
   "source": [
    "start = int(input(\"Enter start number\"))\n",
    "end = int(input(\"Enter end number\"))\n",
    "for num in range(start,end+1):\n",
    "    if num > 1:\n",
    "        for i in range(2,num):\n",
    "            if (num%i)==0:\n",
    "                break\n",
    "        else:\n",
    "            if(num%2!=0):\n",
    "                print(num)\n",
    "                   "
   ]
  },
  {
   "cell_type": "markdown",
   "metadata": {},
   "source": [
    "# Write a python program to implement 15 function of string."
   ]
  },
  {
   "cell_type": "code",
   "execution_count": 2,
   "metadata": {},
   "outputs": [
    {
     "name": "stdout",
     "output_type": "stream",
     "text": [
      "Enter the stringhello my name is payal\n",
      "Length of string is 22\n",
      "Hello my name is payal\n",
      "hello my name is payal\n",
      "HELLO MY NAME IS PAYAL\n",
      "True\n",
      "Hello My Name Is Payal\n",
      "False\n",
      "1\n",
      "[' ', ' ', ' ', ' ', 'a', 'a', 'a', 'e', 'e', 'h', 'i', 'l', 'l', 'l', 'm', 'm', 'n', 'o', 'p', 's', 'y', 'y']\n",
      "<reversed object at 0x0000014837BB5748>\n",
      "False\n",
      "hhello my name is payalihello my name is payal,\n",
      "['hello', 'my', 'name', 'is', 'payal']\n",
      "hi my name is payal\n",
      "False\n"
     ]
    }
   ],
   "source": [
    "string=input(\"Enter the string\")\n",
    "print(\"Length of string is\",len(string))\n",
    "print(string.capitalize())\n",
    "print(string.casefold())\n",
    "print(string.upper())\n",
    "print(string.islower())\n",
    "print(string.title())\n",
    "print(string.isupper())\n",
    "print(string.count(\"hello\"))\n",
    "print(sorted(string))\n",
    "print(reversed(string))\n",
    "print(string.isspace())\n",
    "print(string.join(\"hi,\"))\n",
    "print(string.split())\n",
    "print(string.replace(\"hello\",\"hi\"))\n",
    "print(string.isnumeric())\n"
   ]
  },
  {
   "cell_type": "markdown",
   "metadata": {},
   "source": [
    "# Write a python program to check if the given string is a Palindrome or Anagram or none of them. Display the message accourdingly to the user."
   ]
  },
  {
   "cell_type": "code",
   "execution_count": 3,
   "metadata": {},
   "outputs": [
    {
     "name": "stdout",
     "output_type": "stream",
     "text": [
      "Enter the stringmadam\n",
      "Enter string 1listen\n",
      "Enter string 2scilent\n",
      "The string is palindrome\n",
      "Given strings are none of them\n"
     ]
    }
   ],
   "source": [
    "string=input(\"Enter the string\")\n",
    "st=string[::-1]\n",
    "st1=input(\"Enter string 1\")\n",
    "st2=input(\"Enter string 2\")\n",
    "\n",
    "def isPalindrome():\n",
    "    if st == string:\n",
    "        return True\n",
    "def isAnagram():\n",
    "    if(sorted(st1)==sorted(st2)):\n",
    "        return True\n",
    "if isPalindrome():\n",
    "   print(\"The string is palindrome\")\n",
    "if isAnagram():\n",
    "    print(\"The given strings are anagrams\")\n",
    "else:\n",
    "    print(\"Given strings are none of them\")\n"
   ]
  },
  {
   "cell_type": "markdown",
   "metadata": {},
   "source": [
    "# Write a python user define function that removes all the additional character from the string and convert it finally to lower case using built in lower(). eg if the string is \"Dr. darshan ingle @AI/ML Trainer\", then the output br \"drdarshaningleaimltrainer\"."
   ]
  },
  {
   "cell_type": "code",
   "execution_count": 4,
   "metadata": {},
   "outputs": [
    {
     "name": "stdout",
     "output_type": "stream",
     "text": [
      "Enter the string:Dr. John is Working @ Google!\n",
      "drjohnisworkinggoogle\n"
     ]
    }
   ],
   "source": [
    "\n",
    "string=input(\"Enter the string:\")\n",
    "s=''.join(e for e in string if e.isalnum())\n",
    "print(s.lower())"
   ]
  },
  {
   "cell_type": "code",
   "execution_count": null,
   "metadata": {},
   "outputs": [],
   "source": []
  }
 ],
 "metadata": {
  "kernelspec": {
   "display_name": "Python 3",
   "language": "python",
   "name": "python3"
  },
  "language_info": {
   "codemirror_mode": {
    "name": "ipython",
    "version": 3
   },
   "file_extension": ".py",
   "mimetype": "text/x-python",
   "name": "python",
   "nbconvert_exporter": "python",
   "pygments_lexer": "ipython3",
   "version": "3.7.4"
  }
 },
 "nbformat": 4,
 "nbformat_minor": 2
}
